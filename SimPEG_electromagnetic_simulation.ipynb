{
 "cells": [
  {
   "cell_type": "markdown",
   "metadata": {},
   "source": [
    "# TDEM Magnetic Dipole Sounding over a Sphere\n",
    "\n",
    "In this notebook, we will simulate an TDEM sounding over a conductive sphere. A cylindrical mesh and the [SimPEG](http://simpeg.xyz) Electromanetics module is used to perform the simulation. \n",
    "\n",
    "For more on SimPEG and SimPEG.EM see:\n",
    "\n",
    "- [(Cockett et al., 2015)](http://www.sciencedirect.com/science/article/pii/S009830041530056X): *SimPEG: An open source framework for simulation and gradient based parameter estimation in geophysical applications*\n",
    "- [(Heagy et al., 2016)](https://arxiv.org/abs/1610.00804): *A framework for simulation and inversion in electromagnetics*"
   ]
  },
  {
   "cell_type": "markdown",
   "metadata": {},
   "source": [
    "\n",
    "## Setup\n",
    "\n",
    "An inductive loop transmitter is centered over an electrically conductive sphere (radius 30m). The transmitter is 20m above the surface, and the center of the sphere is 50m below the surface. A coil receiver is offset by 8m horizontally from the transmitter. \n",
    "\n",
    "<img src=\"https://raw.githubusercontent.com/simpeg/em_notebooks/master/images/cylsetup.png\" width=60%>"
   ]
  },
  {
   "cell_type": "markdown",
   "metadata": {},
   "source": [
    "## Getting Started: Package Imports\n",
    "\n",
    "- [NumPy](http://www.numpy.org/), [SciPy](https://www.scipy.org/) and [Matplotlib](http://matplotlib.org/) are core Python packages that can be installed when you install python with a distribution such as [Anaconda](https://www.continuum.io/downloads). \n",
    "\n",
    "- [SimPEG](http://simpeg.xyz) is a Simulation and Inversion package for geophysics\n",
    "\n",
    "If you would like to set up and run SimPEG on your machine, see http://simpeg.xyz and http://tutorials.simpeg.xyz"
   ]
  },
  {
   "cell_type": "code",
   "execution_count": 1,
   "metadata": {},
   "outputs": [],
   "source": [
    "# Basic python packages\n",
    "import numpy as np \n",
    "import matplotlib.pyplot as plt\n",
    "from scipy.constants import mu_0\n",
    "\n",
    "# Modules of SimPEG we will use for forward modelling\n",
    "from SimPEG import Mesh, Utils, Maps\n",
    "from SimPEG.EM import TDEM\n",
    "from pymatsolver import Pardiso as Solver\n",
    "\n",
    "%matplotlib inline"
   ]
  },
  {
   "cell_type": "markdown",
   "metadata": {},
   "source": [
    "## Model Parameters\n",
    "\n",
    "We define a \n",
    "- resistive halfspace and \n",
    "- conductive sphere \n",
    "   - radius of 30m \n",
    "   - center is 50m below the surface"
   ]
  },
  {
   "cell_type": "code",
   "execution_count": 3,
   "metadata": {},
   "outputs": [],
   "source": [
    "# electrical conductivities in S/m\n",
    "sig_halfspace = 1e-6\n",
    "sig_sphere = 1e-2\n",
    "sig_air = 1e-8"
   ]
  },
  {
   "cell_type": "code",
   "execution_count": 4,
   "metadata": {},
   "outputs": [],
   "source": [
    "# depth to center, radius in m\n",
    "sphere_z = -50.\n",
    "sphere_radius = 30. "
   ]
  },
  {
   "cell_type": "markdown",
   "metadata": {},
   "source": [
    "## Survey Parameters\n",
    "\n",
    "- Transmitter and receiver 20m above the surface \n",
    "- Receiver offset from transmitter by 8m horizontally\n",
    "- We will sample 30 times from $10^{-7}$s to $10^{-4}$s"
   ]
  },
  {
   "cell_type": "code",
   "execution_count": 5,
   "metadata": {},
   "outputs": [],
   "source": [
    "boom_height = 20. \n",
    "rx_offset = 8. \n",
    "\n",
    "times = np.logspace(-7, -4, 30)\n",
    "\n",
    "# source and receiver location in 3D space\n",
    "src_loc = np.r_[0., 0., boom_height]\n",
    "rx_loc = np.atleast_2d(np.r_[rx_offset, 0., boom_height])"
   ]
  },
  {
   "cell_type": "code",
   "execution_count": 6,
   "metadata": {},
   "outputs": [
    {
     "name": "stdout",
     "output_type": "stream",
     "text": [
      "min diffusion distance: 3.61e+00 m\n",
      "max diffusion distance: 1.14e+04 m\n"
     ]
    }
   ],
   "source": [
    "# print the min and max diffusion distances to make sure mesh is \n",
    "# fine enough and extends far enough \n",
    "\n",
    "def diffusion_distance(sigma, time):\n",
    "    return 1.28*np.sqrt(time/(sigma * mu_0))\n",
    "\n",
    "print(\n",
    "    'min diffusion distance: {:.2e} m'.format(diffusion_distance(sig_sphere, times.min()))\n",
    ")\n",
    "print(\n",
    "    'max diffusion distance: {:.2e} m'.format(diffusion_distance(sig_halfspace, times.max()))\n",
    ")"
   ]
  },
  {
   "cell_type": "markdown",
   "metadata": {},
   "source": [
    "## Mesh\n",
    "\n",
    "Here, we define a cylindrically symmetric tensor mesh. \n",
    "\n",
    "The figure below shows a cell in a cartesian mesh (a) and a cylindrically symmetric mesh (b). Note that edges are rotational and faces are radial and vertical in the cylindrically symmetric mesh. \n",
    "\n",
    "<img src=\"https://raw.githubusercontent.com/simpeg/em_notebooks/master/images/finiteVolume-02.png\" width=60%>"
   ]
  },
  {
   "cell_type": "markdown",
   "metadata": {},
   "source": [
    "### Mesh Parameters\n",
    "\n",
    "For the mesh, we will use a cylindrically symmetric tensor mesh. To construct a tensor mesh, all that is needed is a vector of cell widths in the x and z-directions. We will define a core mesh region of uniform cell widths and a padding region where the cell widths expand \"to infinity\". "
   ]
  },
  {
   "cell_type": "code",
   "execution_count": 7,
   "metadata": {},
   "outputs": [],
   "source": [
    "# x-direction\n",
    "csx = 2  # core mesh cell width in the x-direction\n",
    "ncx = np.ceil(1.2*sphere_radius/csx)  # number of core x-cells (uniform mesh slightly beyond sphere radius)\n",
    "npadx = 30  # number of x padding cells\n",
    "\n",
    "# z-direction\n",
    "csz = 1  # core mesh cell width in the z-direction\n",
    "ncz = np.ceil(1.2*(boom_height - (sphere_z-sphere_radius))/csz) # number of core z-cells (uniform cells slightly below bottom of sphere)\n",
    "npadz = 32  # number of z padding cells\n",
    "\n",
    "# padding factor (expand cells to infinity)\n",
    "pf = 1.3"
   ]
  },
  {
   "cell_type": "code",
   "execution_count": 8,
   "metadata": {},
   "outputs": [],
   "source": [
    "# cell spacings in the x and z directions\n",
    "hx = Utils.meshTensor([(csx, ncx), (csx, npadx, pf)])\n",
    "hz = Utils.meshTensor([(csz, npadz, -pf), (csz, ncz), (csz, npadz, pf)])\n",
    "\n",
    "# define a SimPEG mesh\n",
    "mesh = Mesh.CylMesh([hx, 1, hz], x0 = np.r_[0.,0., -hz.sum()/2.-boom_height])"
   ]
  },
  {
   "cell_type": "markdown",
   "metadata": {},
   "source": [
    "### Plot the mesh\n",
    "\n",
    "Below, we plot the mesh. The cyl mesh is rotated around x=0. Ensure that each dimension extends beyond the maximum skin depth. \n",
    "\n",
    "Zoom in by changing the xlim and zlim. "
   ]
  },
  {
   "cell_type": "code",
   "execution_count": 9,
   "metadata": {},
   "outputs": [
    {
     "name": "stdout",
     "output_type": "stream",
     "text": [
      "The maximum diffusion distance (in background) is: 1.14e+04 m. Does the mesh go sufficiently past that?\n"
     ]
    },
    {
     "data": {
      "image/png": "[encoded data removed]",
      "text/plain": [
       "<matplotlib.figure.Figure at 0xd15007cc0>"
      ]
     },
     "metadata": {},
     "output_type": "display_data"
    }
   ],
   "source": [
    "# X and Z limits we want to plot to. Try \n",
    "xlim = np.r_[0., 2.5e4]\n",
    "zlim = np.r_[-2.5e4, 2.5e4]\n",
    "\n",
    "fig, ax = plt.subplots(1,1)\n",
    "mesh.plotGrid(ax=ax)\n",
    "\n",
    "ax.set_title('Simulation Mesh')\n",
    "ax.set_xlim(xlim)\n",
    "ax.set_ylim(zlim)\n",
    "\n",
    "print(\n",
    "    'The maximum diffusion distance (in background) is: {:.2e} m. '\n",
    "    'Does the mesh go sufficiently past that?'.format(\n",
    "        diffusion_distance(sig_halfspace, times.max())\n",
    "    )\n",
    ")"
   ]
  },
  {
   "cell_type": "markdown",
   "metadata": {},
   "source": [
    "## Put Model on Mesh\n",
    "\n",
    "Now that the model parameters and mesh are defined, we can define electrical conductivity on the mesh. \n",
    "\n",
    "The electrical conductivity is defined at cell centers when using the finite volume method. So here, we define a vector that contains an electrical conductivity value for every cell center. "
   ]
  },
  {
   "cell_type": "code",
   "execution_count": 10,
   "metadata": {},
   "outputs": [],
   "source": [
    "# create a vector that has one entry for every cell center\n",
    "sigma = sig_air*np.ones(mesh.nC)  # start by defining the conductivity of the air everwhere\n",
    "sigma[mesh.gridCC[:,2] < 0.] = sig_halfspace  # assign halfspace cells below the earth\n",
    "\n",
    "sigma_background = sigma.copy()\n",
    "\n",
    "# indices of the sphere (where (x-x0)**2 + (z-z0)**2 <= R**2)\n",
    "sphere_ind = (mesh.gridCC[:,0]**2 + (mesh.gridCC[:,2] - sphere_z)**2) <= sphere_radius**2 \n",
    "sigma[sphere_ind] = sig_sphere  # assign the conductivity of the sphere"
   ]
  },
  {
   "cell_type": "code",
   "execution_count": 11,
   "metadata": {},
   "outputs": [
    {
     "data": {
      "text/plain": [
       "Text(0.5,1,'Conductivity Model')"
      ]
     },
     "execution_count": 11,
     "metadata": {},
     "output_type": "execute_result"
    },
    {
     "data": {
      "image/png": "[encoded data removed]",
      "text/plain": [
       "<matplotlib.figure.Figure at 0xd150220b8>"
      ]
     },
     "metadata": {},
     "output_type": "display_data"
    }
   ],
   "source": [
    "# Plot a cross section of the conductivity model\n",
    "fig, ax = plt.subplots(1,1)\n",
    "cb = plt.colorbar(mesh.plotImage(np.log10(sigma), ax=ax, mirror=True)[0])\n",
    "\n",
    "# plot formatting and titles\n",
    "cb.set_label('$\\log_{10}\\sigma$', fontsize=13)\n",
    "ax.axis('equal')\n",
    "ax.set_xlim([-120., 120.])\n",
    "ax.set_ylim([-100., 30.])\n",
    "ax.set_title('Conductivity Model')"
   ]
  },
  {
   "cell_type": "markdown",
   "metadata": {},
   "source": [
    "## Set up the Survey\n",
    "\n",
    "Here, we define sources and receivers. For this example, the receivers sample $db/dt$, the time-derivative of the magnetic flux. The source is a vertical magnetic dipole with unit moment. "
   ]
  },
  {
   "cell_type": "code",
   "execution_count": 12,
   "metadata": {},
   "outputs": [],
   "source": [
    "# Define the receivers, we will sample the real secondary magnetic flux density as well as the \n",
    "# imaginary magnetic flux density \n",
    "\n",
    "dbdt_z = TDEM.Rx.Point_dbdt(locs=rx_loc, times=times, orientation='z')  # vertical db_dt\n",
    "rxList = [dbdt_z]  # list of receivers"
   ]
  },
  {
   "cell_type": "code",
   "execution_count": 13,
   "metadata": {},
   "outputs": [
    {
     "name": "stdout",
     "output_type": "stream",
     "text": [
      "There is 1 source. Each source has 1 receivers sampling the resulting db/dt-field at 30 times\n"
     ]
    }
   ],
   "source": [
    "# Define the list of sources - one source for each frequency. The source is a point dipole oriented\n",
    "# in the z-direction\n",
    "\n",
    "srcList = [\n",
    "    TDEM.Src.MagDipole(\n",
    "        rxList, loc=src_loc, orientation='z', waveform=TDEM.Src.StepOffWaveform()\n",
    "    )\n",
    "]\n",
    "\n",
    "print(\n",
    "    'There is {nsrc} source. Each source has {nrx} receivers '\n",
    "    'sampling the resulting db/dt-field at {ntimes} times'.format(\n",
    "        nsrc = len(srcList), \n",
    "        nrx = len(rxList),\n",
    "        ntimes = len(times)\n",
    "    )\n",
    ")"
   ]
  },
  {
   "cell_type": "markdown",
   "metadata": {},
   "source": [
    "## Set up Forward Simulation \n",
    "\n",
    "A forward simulation consists of a paired SimPEG problem and Survey. For this example, we use the E-formulation of Maxwell's equations, solving the second-order system for the electric field, which is defined on the cell edges of the mesh. This is the `prob` variable below. The `survey` takes the source list which is used to construct the RHS for the problem. The source list also contains the receiver information, so the `survey` knows how to sample fields and fluxes that are produced by solving the `prob`.\n",
    "\n",
    "\n",
    "\n",
    "**An Aside: Mappings** \n",
    "\n",
    "The `sigmaMap` defines a [mapping](http://dev-docs.simpeg.xyz/content/api_core/api_Maps.html) which translates an input vector to a physical property - specifically, $\\sigma$. This comes in handy when you want to invert for $\\log(\\sigma)$, in that case, the model is defined in terms of log-conductivity, and you would need an `ExpMap` to translate $\\log(\\sigma) \\to \\sigma$"
   ]
  },
  {
   "cell_type": "code",
   "execution_count": 14,
   "metadata": {},
   "outputs": [
    {
     "name": "stdout",
     "output_type": "stream",
     "text": [
      "The maximum time is 1.3e-04. \n",
      " There are 80 timesteps, 6 of them distinct (which is the same as the number of matrices that need to be factored)\n"
     ]
    }
   ],
   "source": [
    "# solve the problem at these times\n",
    "timeSteps = [(1e-8, 20), (1e-7, 20), (2e-7, 10), (1e-6, 10), (2e-6, 10), (1e-5, 10)] \n",
    "\n",
    "# define a problem - the statement of which discrete pde system we want to solve\n",
    "prob = TDEM.Problem3D_e(mesh, timeSteps = timeSteps, sigmaMap=Maps.IdentityMap(mesh))  \n",
    "prob.solver = Solver\n",
    "\n",
    "survey = TDEM.Survey(srcList)\n",
    "\n",
    "# tell the problem and survey about each other - so the RHS can be constructed for \n",
    "# the problem and the resulting fields and fluxes can be sampled by the receiver. \n",
    "prob.pair(survey)  \n",
    "\n",
    "print(\n",
    "    'The maximum time is {:1.1e}. \\n There are {} timesteps, '\n",
    "    '{} of them distinct (which is the same as the number of matrices that need to be factored)'.format(\n",
    "        prob.times[-1], prob.nT, (len(timeSteps))\n",
    "    )\n",
    ")"
   ]
  },
  {
   "cell_type": "markdown",
   "metadata": {},
   "source": [
    "### Solve the forward simulation \n",
    "\n",
    "Here, we solve the problem for the fields everywhere on the mesh, for with and without the sphere. "
   ]
  },
  {
   "cell_type": "code",
   "execution_count": 15,
   "metadata": {},
   "outputs": [
    {
     "name": "stdout",
     "output_type": "stream",
     "text": [
      "solving with sphere ... \n",
      "... done \n",
      "CPU times: user 6.31 s, sys: 415 ms, total: 6.72 s\n",
      "Wall time: 4.93 s\n"
     ]
    }
   ],
   "source": [
    "%%time\n",
    "print('solving with sphere ... ')\n",
    "fields = prob.fields(sigma)\n",
    "print('... done ')"
   ]
  },
  {
   "cell_type": "code",
   "execution_count": 16,
   "metadata": {},
   "outputs": [
    {
     "name": "stdout",
     "output_type": "stream",
     "text": [
      "solving without sphere ... \n",
      "... done \n",
      "CPU times: user 6.51 s, sys: 487 ms, total: 7 s\n",
      "Wall time: 6.62 s\n"
     ]
    }
   ],
   "source": [
    "%%time\n",
    "print('solving without sphere ... ')\n",
    "fields_background = prob.fields(sigma_background)\n",
    "print('... done ')"
   ]
  },
  {
   "cell_type": "markdown",
   "metadata": {},
   "source": [
    "### Plot the fields\n",
    "\n",
    "Lets look at the physics!"
   ]
  },
  {
   "cell_type": "code",
   "execution_count": 17,
   "metadata": {},
   "outputs": [],
   "source": [
    "# log-scale the colorbar\n",
    "from matplotlib.colors import LogNorm \n",
    "import ipywidgets"
   ]
  },
  {
   "cell_type": "code",
   "execution_count": 18,
   "metadata": {},
   "outputs": [
    {
     "data": {
      "application/vnd.jupyter.widget-view+json": {
       "model_id": "bb711db917ac4490b952a8724589df31",
       "version_major": 2,
       "version_minor": 0
      },
      "text/html": [
       "<p>Failed to display Jupyter Widget of type <code>interactive</code>.</p>\n",
       "<p>\n",
       "  If you're reading this message in the Jupyter Notebook or JupyterLab Notebook, it may mean\n",
       "  that the widgets JavaScript is still loading. If this message persists, it\n",
       "  likely means that the widgets JavaScript library is either not installed or\n",
       "  not enabled. See the <a href=\"https://ipywidgets.readthedocs.io/en/stable/user_install.html\">Jupyter\n",
       "  Widgets Documentation</a> for setup instructions.\n",
       "</p>\n",
       "<p>\n",
       "  If you're reading this message in another frontend (for example, a static\n",
       "  rendering on GitHub or <a href=\"https://nbviewer.jupyter.org/\">NBViewer</a>),\n",
       "  it may mean that your frontend doesn't currently support widgets.\n",
       "</p>\n"
      ],
      "text/plain": [
       "interactive(children=(IntSlider(value=1, description='time_ind', max=79, min=1), Output()), _dom_classes=('widget-interact',))"
      ]
     },
     "metadata": {},
     "output_type": "display_data"
    },
    {
     "data": {
      "text/plain": [
       "<function __main__.plot_dbdtSphere>"
      ]
     },
     "execution_count": 18,
     "metadata": {},
     "output_type": "execute_result"
    }
   ],
   "source": [
    "def plot_dbdtSphere(\n",
    "    time_ind=0 # which frequency would you like to look at?\n",
    "#     ax=ax\n",
    "):\n",
    "    fig, ax = plt.subplots(1,1, figsize=(6,5))\n",
    "    \n",
    "    # Plot the magnetic flux\n",
    "    field_to_plot = fields[srcList, 'dbdt', time_ind]\n",
    "    max_field = np.abs(field_to_plot).max() #use to set colorbar limits\n",
    "    cb_range = 5e2  # dynamic range of colorbar\n",
    "    \n",
    "    cb = plt.colorbar(mesh.plotImage(\n",
    "        field_to_plot, \n",
    "        vType='F', view='vec', \n",
    "        range_x=[-120., 120.], range_y=[-180., 80.],\n",
    "        pcolorOpts={\n",
    "                'norm': LogNorm(), \n",
    "                'cmap': plt.get_cmap('viridis')\n",
    "            },\n",
    "        streamOpts={'color': 'w'}, mirror=True, ax=ax, \n",
    "        clim=[max_field/cb_range, max_field]\n",
    "    )[0], ax=ax)\n",
    "\n",
    "    ax.set_xlim([-120., 120.])\n",
    "    ax.set_ylim([-180., 70.])\n",
    "    cb.set_label('|db/dt|')\n",
    "\n",
    "    # plot the outline of the sphere\n",
    "    x = np.linspace(-sphere_radius, sphere_radius, 100)\n",
    "    ax.plot(x, np.sqrt(sphere_radius**2 - x**2) + sphere_z, color='k')\n",
    "    ax.plot(x, -np.sqrt(sphere_radius**2 - x**2) + sphere_z, color='k')\n",
    "\n",
    "    # plot the source and receiver locations\n",
    "    ax.plot(src_loc[0],src_loc[2],'co', markersize=6)\n",
    "    # ax.plot(rx_loc[0,0],rx_loc[0,2],'co', markersize=6)\n",
    "\n",
    "    # plot the surface of the earth\n",
    "    ax.plot(np.r_[-200, 200], np.r_[0., 0.], 'w:')\n",
    "\n",
    "    # give it a title\n",
    "    ax.set_title(\n",
    "        'db/dt, {time:10.2e} s'.format( \n",
    "            time=prob.times[time_ind]\n",
    "        )\n",
    "    )\n",
    "    plt.show()\n",
    "    return ax\n",
    "\n",
    "ipywidgets.interact(\n",
    "    plot_dbdtSphere, \n",
    "    time_ind=ipywidgets.IntSlider(min=1, max=len(prob.timeSteps)-1, value=1) \n",
    ")"
   ]
  },
  {
   "cell_type": "markdown",
   "metadata": {},
   "source": [
    "### Plot data with and without sphere\n",
    "\n",
    "In what follows, we plot db/dt data with and without the sphere"
   ]
  },
  {
   "cell_type": "code",
   "execution_count": 19,
   "metadata": {},
   "outputs": [],
   "source": [
    "dpred = survey.dpred(sigma, f=fields)\n",
    "dpred_background = survey.dpred(sigma_background, f=fields_background)"
   ]
  },
  {
   "cell_type": "code",
   "execution_count": 20,
   "metadata": {},
   "outputs": [
    {
     "data": {
      "text/plain": [
       "Text(0.5,0,'time (ms)')"
      ]
     },
     "execution_count": 20,
     "metadata": {},
     "output_type": "execute_result"
    },
    {
     "data": {
      "image/png": "[encoded data removed]",
      "text/plain": [
       "<matplotlib.figure.Figure at 0xd1a098fd0>"
      ]
     },
     "metadata": {},
     "output_type": "display_data"
    }
   ],
   "source": [
    "# Plot\n",
    "fig, ax = plt.subplots(1,1)\n",
    "\n",
    "ax.loglog(1e3*times, -dpred)\n",
    "ax.loglog(1e3*times, -dpred_background, '--k')\n",
    "ax.grid(True, color='k',linestyle=\"-\", linewidth=0.1)\n",
    "ax.legend(['with sphere', 'background'])\n",
    "\n",
    "ax.set_title('Sounding over Sphere')\n",
    "ax.set_ylabel('-$db_z/dt$')\n",
    "ax.set_xlabel('time (ms)')"
   ]
  },
  {
   "cell_type": "code",
   "execution_count": null,
   "metadata": {},
   "outputs": [],
   "source": []
  }
 ],
 "metadata": {
  "anaconda-cloud": {},
  "kernelspec": {
   "display_name": "Python 3",
   "language": "python",
   "name": "python3"
  },
  "language_info": {
   "codemirror_mode": {
    "name": "ipython",
    "version": 3
   },
   "file_extension": ".py",
   "mimetype": "text/x-python",
   "name": "python",
   "nbconvert_exporter": "python",
   "pygments_lexer": "ipython3",
   "version": "3.6.7"
  }
 },
 "nbformat": 4,
 "nbformat_minor": 1
}
